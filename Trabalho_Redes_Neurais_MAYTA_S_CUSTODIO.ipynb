{
  "nbformat": 4,
  "nbformat_minor": 0,
  "metadata": {
    "colab": {
      "name": "Trabalho_Redes_Neurais - MAYTA S CUSTODIO.ipynb",
      "provenance": [],
      "collapsed_sections": [],
      "toc_visible": true
    },
    "kernelspec": {
      "name": "python3",
      "display_name": "Python 3"
    },
    "accelerator": "GPU"
  },
  "cells": [
    {
      "cell_type": "markdown",
      "metadata": {
        "id": "WjEZKOS_03VY"
      },
      "source": [
        "### Trabalho redes neurais\n",
        "\n",
        "Professor: Leonardo Mendonza\n",
        "\n",
        "\n",
        "NOME: MAYTA SOARES CUSTODIO\\\n",
        "MATRICULA: 192.671.147\\\n",
        "TURMA: 2019.2"
      ]
    },
    {
      "cell_type": "markdown",
      "metadata": {
        "id": "WJeezY6O06ie"
      },
      "source": [
        "\n",
        "\n",
        "A base apresentada é de pessoas mortas por doenças pulmonares na Inglaterra, a ideia é prever em um período de tempo  com redes LSTM. Por favor rodem o código com a base de dados, vejam os resultados e façam as seguintes mudanças.\n",
        "\n",
        "1- Mudem o otimizador de adam para sgd dentro da configuração da rede e veja os resultados de RMSE.\n",
        "\n",
        "2- Voltando a configuração inicial mude o numero de neurônios da camada LSTM, primeiro para 16 e depois para 48 e veja o resultado do RMSE.\n",
        "\n",
        "3-coloque uma segunda camada LSTM e veja o resultado do RMSE.\n",
        "\n",
        "4- Mude por dois valores que você ache convenientes as épocas de treinamento e veja o resultado do RMSE.\n",
        "\n",
        "5- Com as mudanças feitas proponha sua configuração ideal.\n",
        "\n",
        "Apresente um relatório com os resultados em word e explique como chegou a sua configuração ideal."
      ]
    },
    {
      "cell_type": "markdown",
      "metadata": {
        "id": "bgc8yb4c2W0g"
      },
      "source": [
        "# Recurrent Neural Network - LSTM\n"
      ]
    },
    {
      "cell_type": "markdown",
      "metadata": {
        "id": "aew2N81e35Uc"
      },
      "source": [
        "## Parte 1 - Preprocessamento de Dados"
      ]
    },
    {
      "cell_type": "markdown",
      "metadata": {
        "id": "Z0vulSxH2hHu"
      },
      "source": [
        "### Importar as bibliotecas"
      ]
    },
    {
      "cell_type": "code",
      "metadata": {
        "id": "p2SjiqlE2O08",
        "outputId": "0c46eda0-bba7-4111-dd65-8d2c075fd4e6",
        "colab": {
          "base_uri": "https://localhost:8080/"
        }
      },
      "source": [
        "%tensorflow_version 1.x\n",
        "import numpy as np\n",
        "import matplotlib.pyplot as plt\n",
        "import pandas as pd\n",
        "import os"
      ],
      "execution_count": null,
      "outputs": [
        {
          "output_type": "stream",
          "text": [
            "TensorFlow 1.x selected.\n"
          ],
          "name": "stdout"
        }
      ]
    },
    {
      "cell_type": "markdown",
      "metadata": {
        "id": "36Q16Udt2l3W"
      },
      "source": [
        "### Importar a base de dados"
      ]
    },
    {
      "cell_type": "code",
      "metadata": {
        "id": "1ivhnWxD2eEG"
      },
      "source": [
        "dataset_train = pd.read_csv('train.csv')\n",
        "training_set = dataset_train.iloc[:, 1:2].values #só coluna da série em si"
      ],
      "execution_count": null,
      "outputs": []
    },
    {
      "cell_type": "markdown",
      "metadata": {
        "id": "kd39T1zK2ql1"
      },
      "source": [
        "### gráfico da série temporal"
      ]
    },
    {
      "cell_type": "code",
      "metadata": {
        "id": "vMsAFuya2rhr",
        "outputId": "50ce8719-81b0-405e-fd21-96603e53709e",
        "colab": {
          "base_uri": "https://localhost:8080/",
          "height": 295
        }
      },
      "source": [
        "plt.plot(training_set)\n",
        "plt.xlabel(\"tempo\")\n",
        "plt.ylabel(\"numero mortes\")\n",
        "plt.title(\"Doenças pulmonares\")\n",
        "plt.show()"
      ],
      "execution_count": null,
      "outputs": [
        {
          "output_type": "display_data",
          "data": {
            "image/png": "[encoded data removed]",
            "text/plain": [
              "<Figure size 432x288 with 1 Axes>"
            ]
          },
          "metadata": {
            "tags": [],
            "needs_background": "light"
          }
        }
      ]
    },
    {
      "cell_type": "markdown",
      "metadata": {
        "id": "7p1F7HdB2uJU"
      },
      "source": [
        "### Normalização"
      ]
    },
    {
      "cell_type": "code",
      "metadata": {
        "id": "foeHRZr-2u-L"
      },
      "source": [
        "from sklearn.preprocessing import MinMaxScaler\n",
        "sc = MinMaxScaler(feature_range = (0, 1))\n",
        "training_set_scaled = sc.fit_transform(training_set)"
      ],
      "execution_count": null,
      "outputs": []
    },
    {
      "cell_type": "markdown",
      "metadata": {
        "id": "uQP8Q7MI21Y9"
      },
      "source": [
        "### Criar a estrutura de dados com janela 10 e output 1"
      ]
    },
    {
      "cell_type": "code",
      "metadata": {
        "id": "C6Ge9ql922cb"
      },
      "source": [
        "window = 10\n",
        "trainSize = len(training_set_scaled)\n",
        "X_train = []\n",
        "y_train = []\n",
        "for i in range(window, trainSize):\n",
        "    X_train.append(training_set_scaled[i-window:i, 0])\n",
        "    y_train.append(training_set_scaled[i, 0])\n",
        "X_train, y_train = np.array(X_train), np.array(y_train)"
      ],
      "execution_count": null,
      "outputs": []
    },
    {
      "cell_type": "markdown",
      "metadata": {
        "id": "LPBC2LoG24dU"
      },
      "source": [
        "### Reshaping"
      ]
    },
    {
      "cell_type": "code",
      "metadata": {
        "id": "oGwgQUDbdmnS",
        "outputId": "9779ef13-2fef-4be3-a1bf-c4252423015d",
        "colab": {
          "base_uri": "https://localhost:8080/"
        }
      },
      "source": [
        "X_train.shape"
      ],
      "execution_count": null,
      "outputs": [
        {
          "output_type": "execute_result",
          "data": {
            "text/plain": [
              "(50, 10)"
            ]
          },
          "metadata": {
            "tags": []
          },
          "execution_count": 6
        }
      ]
    },
    {
      "cell_type": "code",
      "metadata": {
        "id": "b9ZfLlGH25fr"
      },
      "source": [
        "X_train = np.reshape(X_train, (X_train.shape[0], X_train.shape[1], 1))"
      ],
      "execution_count": null,
      "outputs": []
    },
    {
      "cell_type": "code",
      "metadata": {
        "id": "RxU0axM9diHO",
        "outputId": "971c19a0-58ef-46a4-9637-848199516e6a",
        "colab": {
          "base_uri": "https://localhost:8080/"
        }
      },
      "source": [
        "X_train.shape"
      ],
      "execution_count": null,
      "outputs": [
        {
          "output_type": "execute_result",
          "data": {
            "text/plain": [
              "(50, 10, 1)"
            ]
          },
          "metadata": {
            "tags": []
          },
          "execution_count": 8
        }
      ]
    },
    {
      "cell_type": "markdown",
      "metadata": {
        "id": "fZhjp7Tf282b"
      },
      "source": [
        "## Parte 2 - Construção da RNN"
      ]
    },
    {
      "cell_type": "markdown",
      "metadata": {
        "id": "RDkAxmMl3EXr"
      },
      "source": [
        "### Bibliotecas necessárias"
      ]
    },
    {
      "cell_type": "code",
      "metadata": {
        "id": "Ifhh9yUo3DpT",
        "outputId": "ad797845-40c7-43b3-d119-d2e8595ddf17",
        "colab": {
          "base_uri": "https://localhost:8080/"
        }
      },
      "source": [
        "from keras.models import Sequential\n",
        "from keras.layers import Dense\n",
        "from keras.layers import LSTM\n",
        "from keras.layers import Dropout"
      ],
      "execution_count": null,
      "outputs": [
        {
          "output_type": "stream",
          "text": [
            "Using TensorFlow backend.\n"
          ],
          "name": "stderr"
        }
      ]
    },
    {
      "cell_type": "markdown",
      "metadata": {
        "id": "kordpD0_3H7b"
      },
      "source": [
        "### Construção da Rede completa"
      ]
    },
    {
      "cell_type": "code",
      "metadata": {
        "id": "DpjzQgOM1e9a"
      },
      "source": [
        "# Registro dos outros experimentos realizados:\n",
        "\n",
        "# Adicionar a primeira camada LSTM e Dropout \n",
        "\n",
        "# Primeiro teste número neurônios primeira camada: \n",
        "\n",
        "# regressor.add(LSTM(units = 100, return_sequences = False, input_shape = (X_train.shape[1], 1)))\n",
        "#regressor.add(Dropout(0.2))\n",
        "\n",
        "#Segundo teste número neurônios primeira camada:\n",
        "\n",
        "# regressor.add(LSTM(units = 16, return_sequences = False, input_shape = (X_train.shape[1], 1)))\n",
        "# regressor.add(Dropout(0.2))\n",
        "\n",
        "\n",
        "# Terceiro teste número neurônios primeira camada:\n",
        "\n",
        "# regressor.add(LSTM(units = 48, return_sequences = False, input_shape = (X_train.shape[1], 1)))\n",
        "# regressor.add(Dropout(0.2))"
      ],
      "execution_count": null,
      "outputs": []
    },
    {
      "cell_type": "code",
      "metadata": {
        "id": "EskB17uo3Iso",
        "outputId": "ba930852-fa31-4d71-9eac-3d5222f08cf0",
        "colab": {
          "base_uri": "https://localhost:8080/"
        }
      },
      "source": [
        "# Inicializar a RNN\n",
        "regressor = Sequential()\n",
        "\n",
        "# Adicionar a primeira camada LSTM e Dropout \n",
        "regressor.add(LSTM(units = 100, return_sequences = True, input_shape = (X_train.shape[1], 1)))\n",
        "regressor.add(Dropout(0.2))\n",
        " \n",
        "# Adicionar a segunda camada LSTM e Dropout\n",
        "regressor.add(LSTM(units = 80, return_sequences = True))\n",
        "regressor.add(Dropout(0.2))\n",
        " \n",
        "# Adicionar a terceira camada LSTM e Dropout\n",
        "regressor.add(LSTM(units = 50))\n",
        "regressor.add(Dropout(0.2))\n",
        " \n",
        "# camada de saída\n",
        "regressor.add(Dense(units = 1))\n",
        " \n",
        "# Compilar a rede\n",
        "regressor.compile(optimizer = 'adam', loss = 'mean_squared_error')\n",
        "\n",
        "# Visualizar a rede\n",
        "regressor.summary()"
      ],
      "execution_count": null,
      "outputs": [
        {
          "output_type": "stream",
          "text": [
            "Model: \"sequential_3\"\n",
            "_________________________________________________________________\n",
            "Layer (type)                 Output Shape              Param #   \n",
            "=================================================================\n",
            "lstm_4 (LSTM)                (None, 10, 100)           40800     \n",
            "_________________________________________________________________\n",
            "dropout_4 (Dropout)          (None, 10, 100)           0         \n",
            "_________________________________________________________________\n",
            "lstm_5 (LSTM)                (None, 10, 80)            57920     \n",
            "_________________________________________________________________\n",
            "dropout_5 (Dropout)          (None, 10, 80)            0         \n",
            "_________________________________________________________________\n",
            "lstm_6 (LSTM)                (None, 50)                26200     \n",
            "_________________________________________________________________\n",
            "dropout_6 (Dropout)          (None, 50)                0         \n",
            "_________________________________________________________________\n",
            "dense_3 (Dense)              (None, 1)                 51        \n",
            "=================================================================\n",
            "Total params: 124,971\n",
            "Trainable params: 124,971\n",
            "Non-trainable params: 0\n",
            "_________________________________________________________________\n"
          ],
          "name": "stdout"
        }
      ]
    },
    {
      "cell_type": "code",
      "metadata": {
        "id": "0VSmUoBF1Fo-",
        "outputId": "459ac100-03c7-40f2-9201-005aaa26de98",
        "colab": {
          "base_uri": "https://localhost:8080/",
          "height": 757
        }
      },
      "source": [
        "from keras.utils import plot_model\n",
        "plot_model(regressor)"
      ],
      "execution_count": null,
      "outputs": [
        {
          "output_type": "execute_result",
          "data": {
            "image/png": "[encoded data removed]",
            "text/plain": [
              "<IPython.core.display.Image object>"
            ]
          },
          "metadata": {
            "tags": []
          },
          "execution_count": 67
        }
      ]
    },
    {
      "cell_type": "markdown",
      "metadata": {
        "id": "5j1w28g83iSR"
      },
      "source": [
        "### Treinamento"
      ]
    },
    {
      "cell_type": "code",
      "metadata": {
        "id": "xWKAuKyp3jXv",
        "outputId": "e8410c18-738f-4235-b10b-ba15b0be900c",
        "colab": {
          "base_uri": "https://localhost:8080/"
        }
      },
      "source": [
        "history =  regressor.fit(X_train, y_train, epochs = 250, batch_size = 32)\n",
        "\n",
        "#regressor.fit(X_train, y_train, epochs = 600, batch_size = 32)\n",
        "#regressor.fit(X_train, y_train, epochs = 500, batch_size = 32)\n",
        "#regressor.fit(X_train, y_train, epochs = 250, batch_size = 32)\n",
        "#regressor.fit(X_train, y_train, epochs = 150, batch_size = 32)\n",
        "#regressor.fit(X_train, y_train, epochs = 300, batch_size = 32)"
      ],
      "execution_count": null,
      "outputs": [
        {
          "output_type": "stream",
          "text": [
            "Epoch 1/250\n",
            "50/50 [==============================] - 0s 1ms/step - loss: 0.0054\n",
            "Epoch 2/250\n",
            "50/50 [==============================] - 0s 1ms/step - loss: 0.0056\n",
            "Epoch 3/250\n",
            "50/50 [==============================] - 0s 1ms/step - loss: 0.0047\n",
            "Epoch 4/250\n",
            "50/50 [==============================] - 0s 1ms/step - loss: 0.0062\n",
            "Epoch 5/250\n",
            "50/50 [==============================] - 0s 1ms/step - loss: 0.0058\n",
            "Epoch 6/250\n",
            "50/50 [==============================] - 0s 1ms/step - loss: 0.0040\n",
            "Epoch 7/250\n",
            "50/50 [==============================] - 0s 1ms/step - loss: 0.0059\n",
            "Epoch 8/250\n",
            "50/50 [==============================] - 0s 1ms/step - loss: 0.0047\n",
            "Epoch 9/250\n",
            "50/50 [==============================] - 0s 1ms/step - loss: 0.0050\n",
            "Epoch 10/250\n",
            "50/50 [==============================] - 0s 1ms/step - loss: 0.0038\n",
            "Epoch 11/250\n",
            "50/50 [==============================] - 0s 1ms/step - loss: 0.0043\n",
            "Epoch 12/250\n",
            "50/50 [==============================] - 0s 1ms/step - loss: 0.0055\n",
            "Epoch 13/250\n",
            "50/50 [==============================] - 0s 1ms/step - loss: 0.0037\n",
            "Epoch 14/250\n",
            "50/50 [==============================] - 0s 1ms/step - loss: 0.0044\n",
            "Epoch 15/250\n",
            "50/50 [==============================] - 0s 1ms/step - loss: 0.0056\n",
            "Epoch 16/250\n",
            "50/50 [==============================] - 0s 1ms/step - loss: 0.0042\n",
            "Epoch 17/250\n",
            "50/50 [==============================] - 0s 1ms/step - loss: 0.0050\n",
            "Epoch 18/250\n",
            "50/50 [==============================] - 0s 1ms/step - loss: 0.0053\n",
            "Epoch 19/250\n",
            "50/50 [==============================] - 0s 1ms/step - loss: 0.0041\n",
            "Epoch 20/250\n",
            "50/50 [==============================] - 0s 1ms/step - loss: 0.0041\n",
            "Epoch 21/250\n",
            "50/50 [==============================] - 0s 1ms/step - loss: 0.0045\n",
            "Epoch 22/250\n",
            "50/50 [==============================] - 0s 1ms/step - loss: 0.0037\n",
            "Epoch 23/250\n",
            "50/50 [==============================] - 0s 1ms/step - loss: 0.0037\n",
            "Epoch 24/250\n",
            "50/50 [==============================] - 0s 1ms/step - loss: 0.0032\n",
            "Epoch 25/250\n",
            "50/50 [==============================] - 0s 1ms/step - loss: 0.0038\n",
            "Epoch 26/250\n",
            "50/50 [==============================] - 0s 1ms/step - loss: 0.0040\n",
            "Epoch 27/250\n",
            "50/50 [==============================] - 0s 1ms/step - loss: 0.0051\n",
            "Epoch 28/250\n",
            "50/50 [==============================] - 0s 1ms/step - loss: 0.0048\n",
            "Epoch 29/250\n",
            "50/50 [==============================] - 0s 1ms/step - loss: 0.0048\n",
            "Epoch 30/250\n",
            "50/50 [==============================] - 0s 1ms/step - loss: 0.0049\n",
            "Epoch 31/250\n",
            "50/50 [==============================] - 0s 1ms/step - loss: 0.0055\n",
            "Epoch 32/250\n",
            "50/50 [==============================] - 0s 1ms/step - loss: 0.0040\n",
            "Epoch 33/250\n",
            "50/50 [==============================] - 0s 1ms/step - loss: 0.0054\n",
            "Epoch 34/250\n",
            "50/50 [==============================] - 0s 1ms/step - loss: 0.0038\n",
            "Epoch 35/250\n",
            "50/50 [==============================] - 0s 1ms/step - loss: 0.0047\n",
            "Epoch 36/250\n",
            "50/50 [==============================] - 0s 1ms/step - loss: 0.0059\n",
            "Epoch 37/250\n",
            "50/50 [==============================] - 0s 1ms/step - loss: 0.0041\n",
            "Epoch 38/250\n",
            "50/50 [==============================] - 0s 1ms/step - loss: 0.0040\n",
            "Epoch 39/250\n",
            "50/50 [==============================] - 0s 1ms/step - loss: 0.0031\n",
            "Epoch 40/250\n",
            "50/50 [==============================] - 0s 1ms/step - loss: 0.0043\n",
            "Epoch 41/250\n",
            "50/50 [==============================] - 0s 1ms/step - loss: 0.0047\n",
            "Epoch 42/250\n",
            "50/50 [==============================] - 0s 2ms/step - loss: 0.0044\n",
            "Epoch 43/250\n",
            "50/50 [==============================] - 0s 1ms/step - loss: 0.0048\n",
            "Epoch 44/250\n",
            "50/50 [==============================] - 0s 1ms/step - loss: 0.0045\n",
            "Epoch 45/250\n",
            "50/50 [==============================] - 0s 1ms/step - loss: 0.0055\n",
            "Epoch 46/250\n",
            "50/50 [==============================] - 0s 1ms/step - loss: 0.0044\n",
            "Epoch 47/250\n",
            "50/50 [==============================] - 0s 1ms/step - loss: 0.0051\n",
            "Epoch 48/250\n",
            "50/50 [==============================] - 0s 1ms/step - loss: 0.0049\n",
            "Epoch 49/250\n",
            "50/50 [==============================] - 0s 1ms/step - loss: 0.0039\n",
            "Epoch 50/250\n",
            "50/50 [==============================] - 0s 1ms/step - loss: 0.0044\n",
            "Epoch 51/250\n",
            "50/50 [==============================] - 0s 1ms/step - loss: 0.0037\n",
            "Epoch 52/250\n",
            "50/50 [==============================] - 0s 1ms/step - loss: 0.0053\n",
            "Epoch 53/250\n",
            "50/50 [==============================] - 0s 1ms/step - loss: 0.0049\n",
            "Epoch 54/250\n",
            "50/50 [==============================] - 0s 1ms/step - loss: 0.0059\n",
            "Epoch 55/250\n",
            "50/50 [==============================] - 0s 1ms/step - loss: 0.0035\n",
            "Epoch 56/250\n",
            "50/50 [==============================] - 0s 1ms/step - loss: 0.0051\n",
            "Epoch 57/250\n",
            "50/50 [==============================] - 0s 1ms/step - loss: 0.0041\n",
            "Epoch 58/250\n",
            "50/50 [==============================] - 0s 1ms/step - loss: 0.0060\n",
            "Epoch 59/250\n",
            "50/50 [==============================] - 0s 1ms/step - loss: 0.0051\n",
            "Epoch 60/250\n",
            "50/50 [==============================] - 0s 1ms/step - loss: 0.0034\n",
            "Epoch 61/250\n",
            "50/50 [==============================] - 0s 1ms/step - loss: 0.0040\n",
            "Epoch 62/250\n",
            "50/50 [==============================] - 0s 1ms/step - loss: 0.0054\n",
            "Epoch 63/250\n",
            "50/50 [==============================] - 0s 1ms/step - loss: 0.0041\n",
            "Epoch 64/250\n",
            "50/50 [==============================] - 0s 1ms/step - loss: 0.0040\n",
            "Epoch 65/250\n",
            "50/50 [==============================] - 0s 1ms/step - loss: 0.0042\n",
            "Epoch 66/250\n",
            "50/50 [==============================] - 0s 1ms/step - loss: 0.0054\n",
            "Epoch 67/250\n",
            "50/50 [==============================] - 0s 1ms/step - loss: 0.0040\n",
            "Epoch 68/250\n",
            "50/50 [==============================] - 0s 2ms/step - loss: 0.0045\n",
            "Epoch 69/250\n",
            "50/50 [==============================] - 0s 1ms/step - loss: 0.0035\n",
            "Epoch 70/250\n",
            "50/50 [==============================] - 0s 1ms/step - loss: 0.0034\n",
            "Epoch 71/250\n",
            "50/50 [==============================] - 0s 1ms/step - loss: 0.0056\n",
            "Epoch 72/250\n",
            "50/50 [==============================] - 0s 1ms/step - loss: 0.0045\n",
            "Epoch 73/250\n",
            "50/50 [==============================] - 0s 1ms/step - loss: 0.0052\n",
            "Epoch 74/250\n",
            "50/50 [==============================] - 0s 1ms/step - loss: 0.0037\n",
            "Epoch 75/250\n",
            "50/50 [==============================] - 0s 1ms/step - loss: 0.0038\n",
            "Epoch 76/250\n",
            "50/50 [==============================] - 0s 1ms/step - loss: 0.0040\n",
            "Epoch 77/250\n",
            "50/50 [==============================] - 0s 1ms/step - loss: 0.0040\n",
            "Epoch 78/250\n",
            "50/50 [==============================] - 0s 1ms/step - loss: 0.0037\n",
            "Epoch 79/250\n",
            "50/50 [==============================] - 0s 1ms/step - loss: 0.0048\n",
            "Epoch 80/250\n",
            "50/50 [==============================] - 0s 1ms/step - loss: 0.0047\n",
            "Epoch 81/250\n",
            "50/50 [==============================] - 0s 1ms/step - loss: 0.0042\n",
            "Epoch 82/250\n",
            "50/50 [==============================] - 0s 1ms/step - loss: 0.0039\n",
            "Epoch 83/250\n",
            "50/50 [==============================] - 0s 1ms/step - loss: 0.0038\n",
            "Epoch 84/250\n",
            "50/50 [==============================] - 0s 1ms/step - loss: 0.0042\n",
            "Epoch 85/250\n",
            "50/50 [==============================] - 0s 1ms/step - loss: 0.0043\n",
            "Epoch 86/250\n",
            "50/50 [==============================] - 0s 1ms/step - loss: 0.0041\n",
            "Epoch 87/250\n",
            "50/50 [==============================] - 0s 1ms/step - loss: 0.0047\n",
            "Epoch 88/250\n",
            "50/50 [==============================] - 0s 1ms/step - loss: 0.0053\n",
            "Epoch 89/250\n",
            "50/50 [==============================] - 0s 1ms/step - loss: 0.0039\n",
            "Epoch 90/250\n",
            "50/50 [==============================] - 0s 1ms/step - loss: 0.0035\n",
            "Epoch 91/250\n",
            "50/50 [==============================] - 0s 1ms/step - loss: 0.0038\n",
            "Epoch 92/250\n",
            "50/50 [==============================] - 0s 1ms/step - loss: 0.0034\n",
            "Epoch 93/250\n",
            "50/50 [==============================] - 0s 1ms/step - loss: 0.0036\n",
            "Epoch 94/250\n",
            "50/50 [==============================] - 0s 1ms/step - loss: 0.0038\n",
            "Epoch 95/250\n",
            "50/50 [==============================] - 0s 1ms/step - loss: 0.0043\n",
            "Epoch 96/250\n",
            "50/50 [==============================] - 0s 1ms/step - loss: 0.0038\n",
            "Epoch 97/250\n",
            "50/50 [==============================] - 0s 1ms/step - loss: 0.0049\n",
            "Epoch 98/250\n",
            "50/50 [==============================] - 0s 1ms/step - loss: 0.0040\n",
            "Epoch 99/250\n",
            "50/50 [==============================] - 0s 1ms/step - loss: 0.0027\n",
            "Epoch 100/250\n",
            "50/50 [==============================] - 0s 1ms/step - loss: 0.0030\n",
            "Epoch 101/250\n",
            "50/50 [==============================] - 0s 1ms/step - loss: 0.0042\n",
            "Epoch 102/250\n",
            "50/50 [==============================] - 0s 1ms/step - loss: 0.0031\n",
            "Epoch 103/250\n",
            "50/50 [==============================] - 0s 1ms/step - loss: 0.0051\n",
            "Epoch 104/250\n",
            "50/50 [==============================] - 0s 1ms/step - loss: 0.0055\n",
            "Epoch 105/250\n",
            "50/50 [==============================] - 0s 1ms/step - loss: 0.0052\n",
            "Epoch 106/250\n",
            "50/50 [==============================] - 0s 1ms/step - loss: 0.0039\n",
            "Epoch 107/250\n",
            "50/50 [==============================] - 0s 1ms/step - loss: 0.0034\n",
            "Epoch 108/250\n",
            "50/50 [==============================] - 0s 1ms/step - loss: 0.0054\n",
            "Epoch 109/250\n",
            "50/50 [==============================] - 0s 2ms/step - loss: 0.0043\n",
            "Epoch 110/250\n",
            "50/50 [==============================] - 0s 1ms/step - loss: 0.0044\n",
            "Epoch 111/250\n",
            "50/50 [==============================] - 0s 1ms/step - loss: 0.0036\n",
            "Epoch 112/250\n",
            "50/50 [==============================] - 0s 1ms/step - loss: 0.0043\n",
            "Epoch 113/250\n",
            "50/50 [==============================] - 0s 1ms/step - loss: 0.0043\n",
            "Epoch 114/250\n",
            "50/50 [==============================] - 0s 1ms/step - loss: 0.0035\n",
            "Epoch 115/250\n",
            "50/50 [==============================] - 0s 1ms/step - loss: 0.0042\n",
            "Epoch 116/250\n",
            "50/50 [==============================] - 0s 1ms/step - loss: 0.0048\n",
            "Epoch 117/250\n",
            "50/50 [==============================] - 0s 1ms/step - loss: 0.0045\n",
            "Epoch 118/250\n",
            "50/50 [==============================] - 0s 1ms/step - loss: 0.0034\n",
            "Epoch 119/250\n",
            "50/50 [==============================] - 0s 1ms/step - loss: 0.0039\n",
            "Epoch 120/250\n",
            "50/50 [==============================] - 0s 1ms/step - loss: 0.0055\n",
            "Epoch 121/250\n",
            "50/50 [==============================] - 0s 1ms/step - loss: 0.0036\n",
            "Epoch 122/250\n",
            "50/50 [==============================] - 0s 1ms/step - loss: 0.0054\n",
            "Epoch 123/250\n",
            "50/50 [==============================] - 0s 1ms/step - loss: 0.0041\n",
            "Epoch 124/250\n",
            "50/50 [==============================] - 0s 1ms/step - loss: 0.0045\n",
            "Epoch 125/250\n",
            "50/50 [==============================] - 0s 1ms/step - loss: 0.0032\n",
            "Epoch 126/250\n",
            "50/50 [==============================] - 0s 1ms/step - loss: 0.0042\n",
            "Epoch 127/250\n",
            "50/50 [==============================] - 0s 1ms/step - loss: 0.0058\n",
            "Epoch 128/250\n",
            "50/50 [==============================] - 0s 2ms/step - loss: 0.0038\n",
            "Epoch 129/250\n",
            "50/50 [==============================] - 0s 1ms/step - loss: 0.0037\n",
            "Epoch 130/250\n",
            "50/50 [==============================] - 0s 1ms/step - loss: 0.0048\n",
            "Epoch 131/250\n",
            "50/50 [==============================] - 0s 1ms/step - loss: 0.0039\n",
            "Epoch 132/250\n",
            "50/50 [==============================] - 0s 1ms/step - loss: 0.0035\n",
            "Epoch 133/250\n",
            "50/50 [==============================] - 0s 1ms/step - loss: 0.0034\n",
            "Epoch 134/250\n",
            "50/50 [==============================] - 0s 1ms/step - loss: 0.0041\n",
            "Epoch 135/250\n",
            "50/50 [==============================] - 0s 1ms/step - loss: 0.0039\n",
            "Epoch 136/250\n",
            "50/50 [==============================] - 0s 1ms/step - loss: 0.0032\n",
            "Epoch 137/250\n",
            "50/50 [==============================] - 0s 1ms/step - loss: 0.0039\n",
            "Epoch 138/250\n",
            "50/50 [==============================] - 0s 1ms/step - loss: 0.0035\n",
            "Epoch 139/250\n",
            "50/50 [==============================] - 0s 1ms/step - loss: 0.0035\n",
            "Epoch 140/250\n",
            "50/50 [==============================] - 0s 1ms/step - loss: 0.0037\n",
            "Epoch 141/250\n",
            "50/50 [==============================] - 0s 1ms/step - loss: 0.0037\n",
            "Epoch 142/250\n",
            "50/50 [==============================] - 0s 1ms/step - loss: 0.0054\n",
            "Epoch 143/250\n",
            "50/50 [==============================] - 0s 2ms/step - loss: 0.0037\n",
            "Epoch 144/250\n",
            "50/50 [==============================] - 0s 1ms/step - loss: 0.0044\n",
            "Epoch 145/250\n",
            "50/50 [==============================] - 0s 1ms/step - loss: 0.0034\n",
            "Epoch 146/250\n",
            "50/50 [==============================] - 0s 1ms/step - loss: 0.0039\n",
            "Epoch 147/250\n",
            "50/50 [==============================] - 0s 1ms/step - loss: 0.0044\n",
            "Epoch 148/250\n",
            "50/50 [==============================] - 0s 1ms/step - loss: 0.0042\n",
            "Epoch 149/250\n",
            "50/50 [==============================] - 0s 1ms/step - loss: 0.0034\n",
            "Epoch 150/250\n",
            "50/50 [==============================] - 0s 1ms/step - loss: 0.0033\n",
            "Epoch 151/250\n",
            "50/50 [==============================] - 0s 1ms/step - loss: 0.0050\n",
            "Epoch 152/250\n",
            "50/50 [==============================] - 0s 1ms/step - loss: 0.0040\n",
            "Epoch 153/250\n",
            "50/50 [==============================] - 0s 1ms/step - loss: 0.0033\n",
            "Epoch 154/250\n",
            "50/50 [==============================] - 0s 1ms/step - loss: 0.0036\n",
            "Epoch 155/250\n",
            "50/50 [==============================] - 0s 1ms/step - loss: 0.0045\n",
            "Epoch 156/250\n",
            "50/50 [==============================] - 0s 1ms/step - loss: 0.0040\n",
            "Epoch 157/250\n",
            "50/50 [==============================] - 0s 1ms/step - loss: 0.0041\n",
            "Epoch 158/250\n",
            "50/50 [==============================] - 0s 2ms/step - loss: 0.0029\n",
            "Epoch 159/250\n",
            "50/50 [==============================] - 0s 1ms/step - loss: 0.0035\n",
            "Epoch 160/250\n",
            "50/50 [==============================] - 0s 1ms/step - loss: 0.0040\n",
            "Epoch 161/250\n",
            "50/50 [==============================] - 0s 1ms/step - loss: 0.0029\n",
            "Epoch 162/250\n",
            "50/50 [==============================] - 0s 1ms/step - loss: 0.0036\n",
            "Epoch 163/250\n",
            "50/50 [==============================] - 0s 1ms/step - loss: 0.0042\n",
            "Epoch 164/250\n",
            "50/50 [==============================] - 0s 1ms/step - loss: 0.0035\n",
            "Epoch 165/250\n",
            "50/50 [==============================] - 0s 1ms/step - loss: 0.0050\n",
            "Epoch 166/250\n",
            "50/50 [==============================] - 0s 1ms/step - loss: 0.0037\n",
            "Epoch 167/250\n",
            "50/50 [==============================] - 0s 1ms/step - loss: 0.0035\n",
            "Epoch 168/250\n",
            "50/50 [==============================] - 0s 1ms/step - loss: 0.0034\n",
            "Epoch 169/250\n",
            "50/50 [==============================] - 0s 1ms/step - loss: 0.0040\n",
            "Epoch 170/250\n",
            "50/50 [==============================] - 0s 1ms/step - loss: 0.0037\n",
            "Epoch 171/250\n",
            "50/50 [==============================] - 0s 1ms/step - loss: 0.0043\n",
            "Epoch 172/250\n",
            "50/50 [==============================] - 0s 1ms/step - loss: 0.0042\n",
            "Epoch 173/250\n",
            "50/50 [==============================] - 0s 1ms/step - loss: 0.0046\n",
            "Epoch 174/250\n",
            "50/50 [==============================] - 0s 1ms/step - loss: 0.0027\n",
            "Epoch 175/250\n",
            "50/50 [==============================] - 0s 1ms/step - loss: 0.0048\n",
            "Epoch 176/250\n",
            "50/50 [==============================] - 0s 1ms/step - loss: 0.0048\n",
            "Epoch 177/250\n",
            "50/50 [==============================] - 0s 1ms/step - loss: 0.0043\n",
            "Epoch 178/250\n",
            "50/50 [==============================] - 0s 1ms/step - loss: 0.0050\n",
            "Epoch 179/250\n",
            "50/50 [==============================] - 0s 1ms/step - loss: 0.0027\n",
            "Epoch 180/250\n",
            "50/50 [==============================] - 0s 1ms/step - loss: 0.0070\n",
            "Epoch 181/250\n",
            "50/50 [==============================] - 0s 1ms/step - loss: 0.0046\n",
            "Epoch 182/250\n",
            "50/50 [==============================] - 0s 1ms/step - loss: 0.0042\n",
            "Epoch 183/250\n",
            "50/50 [==============================] - 0s 1ms/step - loss: 0.0042\n",
            "Epoch 184/250\n",
            "50/50 [==============================] - 0s 1ms/step - loss: 0.0041\n",
            "Epoch 185/250\n",
            "50/50 [==============================] - 0s 1ms/step - loss: 0.0033\n",
            "Epoch 186/250\n",
            "50/50 [==============================] - 0s 1ms/step - loss: 0.0045\n",
            "Epoch 187/250\n",
            "50/50 [==============================] - 0s 2ms/step - loss: 0.0036\n",
            "Epoch 188/250\n",
            "50/50 [==============================] - 0s 1ms/step - loss: 0.0056\n",
            "Epoch 189/250\n",
            "50/50 [==============================] - 0s 1ms/step - loss: 0.0042\n",
            "Epoch 190/250\n",
            "50/50 [==============================] - 0s 1ms/step - loss: 0.0049\n",
            "Epoch 191/250\n",
            "50/50 [==============================] - 0s 1ms/step - loss: 0.0042\n",
            "Epoch 192/250\n",
            "50/50 [==============================] - 0s 1ms/step - loss: 0.0029\n",
            "Epoch 193/250\n",
            "50/50 [==============================] - 0s 1ms/step - loss: 0.0038\n",
            "Epoch 194/250\n",
            "50/50 [==============================] - 0s 2ms/step - loss: 0.0036\n",
            "Epoch 195/250\n",
            "50/50 [==============================] - 0s 1ms/step - loss: 0.0055\n",
            "Epoch 196/250\n",
            "50/50 [==============================] - 0s 1ms/step - loss: 0.0037\n",
            "Epoch 197/250\n",
            "50/50 [==============================] - 0s 1ms/step - loss: 0.0036\n",
            "Epoch 198/250\n",
            "50/50 [==============================] - 0s 1ms/step - loss: 0.0053\n",
            "Epoch 199/250\n",
            "50/50 [==============================] - 0s 1ms/step - loss: 0.0049\n",
            "Epoch 200/250\n",
            "50/50 [==============================] - 0s 1ms/step - loss: 0.0036\n",
            "Epoch 201/250\n",
            "50/50 [==============================] - 0s 1ms/step - loss: 0.0060\n",
            "Epoch 202/250\n",
            "50/50 [==============================] - 0s 1ms/step - loss: 0.0045\n",
            "Epoch 203/250\n",
            "50/50 [==============================] - 0s 1ms/step - loss: 0.0043\n",
            "Epoch 204/250\n",
            "50/50 [==============================] - 0s 1ms/step - loss: 0.0034\n",
            "Epoch 205/250\n",
            "50/50 [==============================] - 0s 1ms/step - loss: 0.0036\n",
            "Epoch 206/250\n",
            "50/50 [==============================] - 0s 1ms/step - loss: 0.0037\n",
            "Epoch 207/250\n",
            "50/50 [==============================] - 0s 1ms/step - loss: 0.0042\n",
            "Epoch 208/250\n",
            "50/50 [==============================] - 0s 1ms/step - loss: 0.0032\n",
            "Epoch 209/250\n",
            "50/50 [==============================] - 0s 1ms/step - loss: 0.0041\n",
            "Epoch 210/250\n",
            "50/50 [==============================] - 0s 1ms/step - loss: 0.0048\n",
            "Epoch 211/250\n",
            "50/50 [==============================] - 0s 1ms/step - loss: 0.0026\n",
            "Epoch 212/250\n",
            "50/50 [==============================] - 0s 1ms/step - loss: 0.0046\n",
            "Epoch 213/250\n",
            "50/50 [==============================] - 0s 1ms/step - loss: 0.0034\n",
            "Epoch 214/250\n",
            "50/50 [==============================] - 0s 1ms/step - loss: 0.0045\n",
            "Epoch 215/250\n",
            "50/50 [==============================] - 0s 1ms/step - loss: 0.0035\n",
            "Epoch 216/250\n",
            "50/50 [==============================] - 0s 1ms/step - loss: 0.0041\n",
            "Epoch 217/250\n",
            "50/50 [==============================] - 0s 1ms/step - loss: 0.0052\n",
            "Epoch 218/250\n",
            "50/50 [==============================] - 0s 1ms/step - loss: 0.0040\n",
            "Epoch 219/250\n",
            "50/50 [==============================] - 0s 1ms/step - loss: 0.0041\n",
            "Epoch 220/250\n",
            "50/50 [==============================] - 0s 1ms/step - loss: 0.0030\n",
            "Epoch 221/250\n",
            "50/50 [==============================] - 0s 1ms/step - loss: 0.0038\n",
            "Epoch 222/250\n",
            "50/50 [==============================] - 0s 1ms/step - loss: 0.0047\n",
            "Epoch 223/250\n",
            "50/50 [==============================] - 0s 1ms/step - loss: 0.0037\n",
            "Epoch 224/250\n",
            "50/50 [==============================] - 0s 1ms/step - loss: 0.0026\n",
            "Epoch 225/250\n",
            "50/50 [==============================] - 0s 1ms/step - loss: 0.0039\n",
            "Epoch 226/250\n",
            "50/50 [==============================] - 0s 1ms/step - loss: 0.0039\n",
            "Epoch 227/250\n",
            "50/50 [==============================] - 0s 1ms/step - loss: 0.0035\n",
            "Epoch 228/250\n",
            "50/50 [==============================] - 0s 1ms/step - loss: 0.0029\n",
            "Epoch 229/250\n",
            "50/50 [==============================] - 0s 1ms/step - loss: 0.0035\n",
            "Epoch 230/250\n",
            "50/50 [==============================] - 0s 1ms/step - loss: 0.0032\n",
            "Epoch 231/250\n",
            "50/50 [==============================] - 0s 1ms/step - loss: 0.0035\n",
            "Epoch 232/250\n",
            "50/50 [==============================] - 0s 1ms/step - loss: 0.0036\n",
            "Epoch 233/250\n",
            "50/50 [==============================] - 0s 1ms/step - loss: 0.0040\n",
            "Epoch 234/250\n",
            "50/50 [==============================] - 0s 1ms/step - loss: 0.0031\n",
            "Epoch 235/250\n",
            "50/50 [==============================] - 0s 1ms/step - loss: 0.0035\n",
            "Epoch 236/250\n",
            "50/50 [==============================] - 0s 1ms/step - loss: 0.0053\n",
            "Epoch 237/250\n",
            "50/50 [==============================] - 0s 1ms/step - loss: 0.0033\n",
            "Epoch 238/250\n",
            "50/50 [==============================] - 0s 1ms/step - loss: 0.0028\n",
            "Epoch 239/250\n",
            "50/50 [==============================] - 0s 1ms/step - loss: 0.0052\n",
            "Epoch 240/250\n",
            "50/50 [==============================] - 0s 1ms/step - loss: 0.0038\n",
            "Epoch 241/250\n",
            "50/50 [==============================] - 0s 1ms/step - loss: 0.0048\n",
            "Epoch 242/250\n",
            "50/50 [==============================] - 0s 1ms/step - loss: 0.0041\n",
            "Epoch 243/250\n",
            "50/50 [==============================] - 0s 1ms/step - loss: 0.0040\n",
            "Epoch 244/250\n",
            "50/50 [==============================] - 0s 1ms/step - loss: 0.0036\n",
            "Epoch 245/250\n",
            "50/50 [==============================] - 0s 1ms/step - loss: 0.0027\n",
            "Epoch 246/250\n",
            "50/50 [==============================] - 0s 1ms/step - loss: 0.0042\n",
            "Epoch 247/250\n",
            "50/50 [==============================] - 0s 1ms/step - loss: 0.0025\n",
            "Epoch 248/250\n",
            "50/50 [==============================] - 0s 1ms/step - loss: 0.0042\n",
            "Epoch 249/250\n",
            "50/50 [==============================] - 0s 1ms/step - loss: 0.0042\n",
            "Epoch 250/250\n",
            "50/50 [==============================] - 0s 1ms/step - loss: 0.0041\n"
          ],
          "name": "stdout"
        }
      ]
    },
    {
      "cell_type": "code",
      "metadata": {
        "id": "RQlClmao1P04",
        "outputId": "5e273976-9ba9-438f-ff34-3a372b8412fa",
        "colab": {
          "base_uri": "https://localhost:8080/",
          "height": 264
        }
      },
      "source": [
        "plt.plot(history.history['loss'], label='treino')\n",
        "plt.legend();"
      ],
      "execution_count": null,
      "outputs": [
        {
          "output_type": "display_data",
          "data": {
            "image/png": "[encoded data removed]",
            "text/plain": [
              "<Figure size 432x288 with 1 Axes>"
            ]
          },
          "metadata": {
            "tags": [],
            "needs_background": "light"
          }
        }
      ]
    },
    {
      "cell_type": "markdown",
      "metadata": {
        "id": "gwpyImwA3yon"
      },
      "source": [
        "## Parte 3 - Fazer as previsões e analisar os resultados"
      ]
    },
    {
      "cell_type": "markdown",
      "metadata": {
        "id": "wkXRvDjT4V-B"
      },
      "source": [
        "### Base de teste"
      ]
    },
    {
      "cell_type": "code",
      "metadata": {
        "id": "Bn_n72dh30K-"
      },
      "source": [
        "dataset_test = pd.read_csv('test.csv')\n",
        "test_pul = dataset_test.iloc[:, 1:2].values"
      ],
      "execution_count": null,
      "outputs": []
    },
    {
      "cell_type": "markdown",
      "metadata": {
        "id": "EOo84exH4bfs"
      },
      "source": [
        "### Construir a estrutura para teste"
      ]
    },
    {
      "cell_type": "code",
      "metadata": {
        "id": "ob_-mGA_B5px"
      },
      "source": [
        "dataset_total = pd.concat((dataset_train.iloc[:,1], dataset_test.iloc[:,1]), axis = 0)\n",
        "testLength = len(dataset_test)\n",
        "inputs = dataset_total[len(dataset_total) - testLength - window:].values\n",
        "inputs = inputs.reshape(inputs.shape[0],1)\n",
        "\n",
        "inputs = sc.transform(inputs)\n",
        "X_test = []\n",
        "for i in range(window, inputs.shape[0]): \n",
        "    X_test.append(inputs[i-window:i, 0])\n",
        "X_test = np.array(X_test)\n",
        "\n",
        "X_test = np.reshape(X_test, (X_test.shape[0], X_test.shape[1], 1))"
      ],
      "execution_count": null,
      "outputs": []
    },
    {
      "cell_type": "markdown",
      "metadata": {
        "id": "rtkB4NA74e1B"
      },
      "source": [
        "### Fazer as previsões"
      ]
    },
    {
      "cell_type": "code",
      "metadata": {
        "id": "nKIq1h-E4g9Z"
      },
      "source": [
        "predicted = regressor.predict(X_test)\n",
        "predicted = sc.inverse_transform(predicted)"
      ],
      "execution_count": null,
      "outputs": []
    },
    {
      "cell_type": "markdown",
      "metadata": {
        "id": "guvk7yXr4o0g"
      },
      "source": [
        "### Visualizar os resultados de treino e teste"
      ]
    },
    {
      "cell_type": "code",
      "metadata": {
        "id": "tstXl2oS4rIo",
        "outputId": "0788173a-51b7-446e-915c-acd612884494",
        "colab": {
          "base_uri": "https://localhost:8080/",
          "height": 294
        }
      },
      "source": [
        "allTargetData = np.vstack((training_set, test_pul))\n",
        "training_predicted = regressor.predict(X_train)\n",
        "training_predicted = sc.inverse_transform(training_predicted)\n",
        "allForecastedData = np.vstack((training_set[0:window], training_predicted, predicted))\n",
        "plt.plot(allTargetData, color = 'red', label = 'Real')\n",
        "plt.plot(allForecastedData, color = 'blue', label = 'Previsto')\n",
        "plt.title('Previsão de série temporal - 3 camadas - 250 épocas', color ='white')\n",
        "plt.xlabel('Tempo', color='yellow')\n",
        "plt.ylabel('Passageiros', color='yellow')\n",
        "plt.legend()\n",
        "plt.savefig('predictions_training_test.svg')\n",
        "plt.show()"
      ],
      "execution_count": null,
      "outputs": [
        {
          "output_type": "display_data",
          "data": {
            "image/png": "[encoded data removed]",
            "text/plain": [
              "<Figure size 432x288 with 1 Axes>"
            ]
          },
          "metadata": {
            "tags": [],
            "needs_background": "light"
          }
        }
      ]
    },
    {
      "cell_type": "markdown",
      "metadata": {
        "id": "ytEVhQht4we3"
      },
      "source": [
        "## Parte 4 - Métricas de avaliação"
      ]
    },
    {
      "cell_type": "code",
      "metadata": {
        "id": "rqOonVj64ydu",
        "outputId": "b8b924ba-4c14-413f-de0d-9da8dcc15ff7",
        "colab": {
          "base_uri": "https://localhost:8080/"
        }
      },
      "source": [
        "import math\n",
        "from sklearn.metrics import mean_squared_error\n",
        "rmse = math.sqrt(mean_squared_error(test_pul, predicted))\n",
        "print('RMSE: ', rmse)"
      ],
      "execution_count": null,
      "outputs": [
        {
          "output_type": "stream",
          "text": [
            "RMSE:  177.20387020770562\n"
          ],
          "name": "stdout"
        }
      ]
    },
    {
      "cell_type": "code",
      "metadata": {
        "id": "ODeley1K42WW",
        "outputId": "fddc1453-9752-4a6d-e319-ef69acc84379",
        "colab": {
          "base_uri": "https://localhost:8080/"
        }
      },
      "source": [
        "mse = mean_squared_error(test_pul, predicted)\n",
        "print('MSE: ',mse)"
      ],
      "execution_count": null,
      "outputs": [
        {
          "output_type": "stream",
          "text": [
            "MSE:  31401.21161658938\n"
          ],
          "name": "stdout"
        }
      ]
    },
    {
      "cell_type": "code",
      "metadata": {
        "id": "L7_uU_8T44QA",
        "outputId": "1a2aea3c-41ce-4e3d-953c-9c581e19a871",
        "colab": {
          "base_uri": "https://localhost:8080/"
        }
      },
      "source": [
        "mape = np.mean(np.abs((test_pul - predicted) / test_pul)) * 100\n",
        "print('MAPE: ',mape, '%')"
      ],
      "execution_count": null,
      "outputs": [
        {
          "output_type": "stream",
          "text": [
            "MAPE:  7.360768916102822 %\n"
          ],
          "name": "stdout"
        }
      ]
    },
    {
      "cell_type": "code",
      "metadata": {
        "id": "mgmtdSOq7rG0",
        "outputId": "3019af61-7cfc-41cb-c3bc-19fa42630023",
        "colab": {
          "base_uri": "https://localhost:8080/"
        }
      },
      "source": [
        "# Calculando o coeficiente de determinação\n",
        "\n",
        "from sklearn.metrics import r2_score\n",
        "r2_score(test_pul, predicted)"
      ],
      "execution_count": null,
      "outputs": [
        {
          "output_type": "execute_result",
          "data": {
            "text/plain": [
              "0.8953906944620914"
            ]
          },
          "metadata": {
            "tags": []
          },
          "execution_count": 98
        }
      ]
    }
  ]
}